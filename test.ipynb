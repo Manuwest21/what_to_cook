{
 "cells": [
  {
   "cell_type": "code",
   "execution_count": 1,
   "metadata": {},
   "outputs": [],
   "source": [
    "PROTEIN_CHOICES = (\n",
    "    (\"Beef\", \"Boeuf\"),\n",
    "    (\"Veal\", \"Veau\"),\n",
    "    (\"Salmon\", \"Saumon\"),\n",
    "    (\"Eggs\", \"Oeufs\"),\n",
    ")\n",
    "\n",
    "VEGGIES_CHOICES = (\n",
    "    (\"Grean Beans\", \"Haricots Verts\"),\n",
    "    (\"Broccoli\", \"Brocoli\"),\n",
    "    (\"Bell Pepper\", \"Poivron\"),\n",
    "    (\"Tomato\", \"Tomate\"),\n",
    ")\n",
    "\n"
   ]
  },
  {
   "cell_type": "code",
   "execution_count": 2,
   "metadata": {},
   "outputs": [
    {
     "data": {
      "text/plain": [
       "(('Beef', 'Boeuf'), ('Veal', 'Veau'), ('Salmon', 'Saumon'), ('Eggs', 'Oeufs'))"
      ]
     },
     "execution_count": 2,
     "metadata": {},
     "output_type": "execute_result"
    }
   ],
   "source": [
    "PROTEIN_CHOICES"
   ]
  }
 ],
 "metadata": {
  "kernelspec": {
   "display_name": "Python 3.10.6 ('zoltar')",
   "language": "python",
   "name": "python3"
  },
  "language_info": {
   "codemirror_mode": {
    "name": "ipython",
    "version": 3
   },
   "file_extension": ".py",
   "mimetype": "text/x-python",
   "name": "python",
   "nbconvert_exporter": "python",
   "pygments_lexer": "ipython3",
   "version": "3.10.6"
  },
  "orig_nbformat": 4,
  "vscode": {
   "interpreter": {
    "hash": "8b30607a8c237c15766f49bbb04de84ed3af16fb75cd5ef509172a1330ad370e"
   }
  }
 },
 "nbformat": 4,
 "nbformat_minor": 2
}
